{
 "cells": [
  {
   "metadata": {
    "ExecuteTime": {
     "end_time": "2025-10-21T17:25:46.494703Z",
     "start_time": "2025-10-21T17:25:45.947245Z"
    }
   },
   "cell_type": "code",
   "source": [
    "import kagglehub\n",
    "\n",
    "# Download latest version\n",
    "path = kagglehub.dataset_download(\"uom190346a/sleep-health-and-lifestyle-dataset\")\n",
    "\n",
    "print(\"Path to dataset files:\", path)"
   ],
   "id": "fbc121e30a2defb3",
   "outputs": [
    {
     "name": "stdout",
     "output_type": "stream",
     "text": [
      "Path to dataset files: C:\\Users\\edvar\\.cache\\kagglehub\\datasets\\uom190346a\\sleep-health-and-lifestyle-dataset\\versions\\2\n"
     ]
    }
   ],
   "execution_count": 17
  },
  {
   "metadata": {
    "ExecuteTime": {
     "end_time": "2025-10-21T17:25:59.022774Z",
     "start_time": "2025-10-21T17:25:58.926183Z"
    }
   },
   "cell_type": "code",
   "source": [
    "import pandas as pd\n",
    "from sklearn.model_selection import train_test_split\n",
    "from sklearn.preprocessing import LabelEncoder\n",
    "from sklearn.ensemble import RandomForestClassifier\n",
    "from sklearn.metrics import accuracy_score\n",
    "import joblib\n",
    "\n",
    "# Load the dataset\n",
    "data = pd.read_csv(path + \"/Sleep_health_and_lifestyle_dataset.csv\")\n",
    "\n",
    "# Preprocess the data\n",
    "# For simplicity, we'll drop Person ID and split Blood Pressure\n",
    "data = data.drop(\"Person ID\", axis=1)\n",
    "data[['Systolic_BP', 'Diastolic_BP']] = data['Blood Pressure'].str.split('/', expand=True)\n",
    "data = data.drop('Blood Pressure', axis=1)\n",
    "\n",
    "# Convert all columns to numeric, using label encoding for categorical features\n",
    "for column in data.columns:\n",
    "    if data[column].dtype == 'object':\n",
    "        le = LabelEncoder()\n",
    "        data[column] = le.fit_transform(data[column])\n",
    "\n",
    "# Split data into features (X) and target (y)\n",
    "X = data.drop(\"Sleep Disorder\", axis=1)\n",
    "y = data[\"Sleep Disorder\"]\n",
    "\n",
    "# Split data into training and testing sets\n",
    "X_train, X_test, y_train, y_test = train_test_split(X, y, test_size=0.2, random_state=42)\n",
    "\n",
    "# Train a Random Forest Classifier\n",
    "model = RandomForestClassifier(random_state=42)\n",
    "model.fit(X_train, y_train)\n",
    "\n",
    "# Evaluate the model\n",
    "y_pred = model.predict(X_test)\n",
    "print(f\"Model Accuracy: {accuracy_score(y_test, y_pred)}\")\n",
    "\n",
    "# Save the trained model\n",
    "joblib.dump(model, 'sleep_disorder_model.pkl')"
   ],
   "id": "f3ff66d7cc76cdee",
   "outputs": [
    {
     "name": "stdout",
     "output_type": "stream",
     "text": [
      "Model Accuracy: 0.88\n"
     ]
    },
    {
     "data": {
      "text/plain": [
       "['sleep_disorder_model.pkl']"
      ]
     },
     "execution_count": 19,
     "metadata": {},
     "output_type": "execute_result"
    }
   ],
   "execution_count": 19
  }
 ],
 "metadata": {
  "kernelspec": {
   "display_name": "Python 3",
   "language": "python",
   "name": "python3"
  },
  "language_info": {
   "codemirror_mode": {
    "name": "ipython",
    "version": 2
   },
   "file_extension": ".py",
   "mimetype": "text/x-python",
   "name": "python",
   "nbconvert_exporter": "python",
   "pygments_lexer": "ipython2",
   "version": "2.7.6"
  }
 },
 "nbformat": 4,
 "nbformat_minor": 5
}

{
 "cells": [
  {
   "metadata": {
    "id": "fbc121e30a2defb3",
    "outputId": "60947ea4-f7da-4bdc-9c72-eb6e862a2d01",
    "colab": {
     "base_uri": "https://localhost:8080/"
    }
   },
   "cell_type": "code",
   "source": [
    "import kagglehub\n",
    "\n",
    "# Download latest version\n",
    "path = kagglehub.dataset_download(\"rabieelkharoua/alzheimers-disease-dataset\")\n",
    "\n",
    "print(\"Path to dataset files:\", path)\n",
    "\n",
    "# https://www.kaggle.com/code/adhamtarek147/alzheimer-s-disease-prediction\n",
    "# Eksempel av løsning på datasettet"
   ],
   "id": "fbc121e30a2defb3",
   "outputs": [],
   "execution_count": null
  },
  {
   "metadata": {},
   "cell_type": "code",
   "source": [
    "import pandas as pd\n",
    "data = pd.read_csv(path + \"/alzheimers_disease_data.csv\")\n",
    "data.head()"
   ],
   "id": "98f2f58d45730b7f",
   "outputs": [],
   "execution_count": null
  },
  {
   "metadata": {},
   "cell_type": "code",
   "source": "data.info()",
   "id": "78977d519517a585",
   "outputs": [],
   "execution_count": null
  },
  {
   "metadata": {},
   "cell_type": "code",
   "source": "data.describe()",
   "id": "d7f7ea8eb496a36f",
   "outputs": [],
   "execution_count": null
  },
  {
   "metadata": {},
   "cell_type": "code",
   "source": [
    "#som beskrevet i datasett sin beskrivelse  er doctorInCharge bare XXXconfid og dermed ikke relevant\n",
    "data_cleaned = data.drop(columns=[\"DoctorInCharge\"], axis=1)\n",
    "#vi trenger heller ikkje PatientID\n",
    "data_cleaned = data_cleaned.drop(columns=[\"PatientID\"], axis=1)\n",
    "data_cleaned.info()"
   ],
   "id": "9b022592d8f791d6",
   "outputs": [],
   "execution_count": null
  },
  {
   "metadata": {},
   "cell_type": "code",
   "source": [
    "for column in data_cleaned.columns:\n",
    "    unique_values = data_cleaned[column].unique()\n",
    "    print(f\"Column '{column}' has {unique_values}.\")\n",
    "\n",
    "# vi ser her at et veldig stor foskjell mellom skaleringen til nokon av verdiene med, tall fra 0-3 og nokon fra 0-100\n",
    "# vi må normalisere de"
   ],
   "id": "6856f094a98814b2",
   "outputs": [],
   "execution_count": null
  },
  {
   "metadata": {},
   "cell_type": "code",
   "source": [
    "from sklearn.preprocessing import MinMaxScaler, StandardScaler\n",
    "\n",
    "columns_to_normalize = ['Age','BMI', 'AlcoholConsumption', 'PhysicalActivity', 'DietQuality', 'SleepQuality', 'SystolicBP','DiastolicBP',\n",
    "                        'CholesterolTotal','CholesterolLDL','CholesterolHDL','CholesterolTriglycerides','MMSE','FunctionalAssessment','ADL']\n",
    "\n",
    "# skalere dataen\n",
    "standard_scaler = StandardScaler()\n",
    "data_cleaned[columns_to_normalize] = standard_scaler.fit_transform(data_cleaned[columns_to_normalize])\n",
    "data_cleaned.head()"
   ],
   "id": "e8a7f520e5d7d707",
   "outputs": [],
   "execution_count": null
  },
  {
   "metadata": {},
   "cell_type": "code",
   "source": [
    "from sklearn.model_selection import train_test_split\n",
    "\n",
    "X = data_cleaned.drop(columns=[\"Diagnosis\"], axis=1)\n",
    "y = data_cleaned[\"Diagnosis\"]\n",
    "\n",
    "X_train, X_test, y_train, y_test = train_test_split(X, y, test_size=0.2, random_state=42)\n",
    "\n",
    "# hvilken model er best egnet?\n",
    "# vi tester flere modeler samtidig for å finne den beste\n"
   ],
   "id": "9d630c4684d998a9",
   "outputs": [],
   "execution_count": null
  }
 ],
 "metadata": {
  "kernelspec": {
   "display_name": "Python 3",
   "language": "python",
   "name": "python3"
  },
  "language_info": {
   "codemirror_mode": {
    "name": "ipython",
    "version": 2
   },
   "file_extension": ".py",
   "mimetype": "text/x-python",
   "name": "python",
   "nbconvert_exporter": "python",
   "pygments_lexer": "ipython2",
   "version": "2.7.6"
  },
  "colab": {
   "provenance": []
  }
 },
 "nbformat": 4,
 "nbformat_minor": 5
}

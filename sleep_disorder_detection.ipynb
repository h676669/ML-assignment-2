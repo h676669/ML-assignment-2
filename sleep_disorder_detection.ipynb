{
 "cells": [
  {
   "metadata": {
    "id": "fbc121e30a2defb3",
    "outputId": "60947ea4-f7da-4bdc-9c72-eb6e862a2d01",
    "colab": {
     "base_uri": "https://localhost:8080/"
    }
   },
   "cell_type": "code",
   "source": [
    "import kagglehub\n",
    "\n",
    "# Download latest version\n",
    "path = kagglehub.dataset_download(\"uom190346a/sleep-health-and-lifestyle-dataset\")\n",
    "\n",
    "print(\"Path to dataset files:\", path)"
   ],
   "id": "fbc121e30a2defb3",
   "outputs": [],
   "execution_count": null
  },
  {
   "metadata": {
    "id": "f3ff66d7cc76cdee"
   },
   "cell_type": "code",
   "source": [
    "import pandas as pd"
   ],
   "id": "f3ff66d7cc76cdee",
   "outputs": [],
   "execution_count": null
  },
  {
   "metadata": {
    "id": "9bda9e4df152218a"
   },
   "cell_type": "code",
   "source": [
    "data = pd.read_csv(path+\"/Sleep_health_and_lifestyle_dataset.csv\")"
   ],
   "id": "9bda9e4df152218a",
   "outputs": [],
   "execution_count": null
  },
  {
   "metadata": {},
   "cell_type": "code",
   "outputs": [],
   "execution_count": null,
   "source": [
    "headAmount = 5 # for å skrive ut alle data punkt i csv file skriv data.size() istedenfor eit tall\n",
    "data.head(headAmount)"
   ],
   "id": "fc2e2c9d1d5bf4f2"
  },
  {
   "metadata": {},
   "cell_type": "code",
   "outputs": [],
   "execution_count": null,
   "source": "#normalize data",
   "id": "38e3a60ac98bc860"
  }
 ],
 "metadata": {
  "kernelspec": {
   "display_name": "Python 3",
   "language": "python",
   "name": "python3"
  },
  "language_info": {
   "codemirror_mode": {
    "name": "ipython",
    "version": 2
   },
   "file_extension": ".py",
   "mimetype": "text/x-python",
   "name": "python",
   "nbconvert_exporter": "python",
   "pygments_lexer": "ipython2",
   "version": "2.7.6"
  },
  "colab": {
   "provenance": []
  }
 },
 "nbformat": 4,
 "nbformat_minor": 5
}

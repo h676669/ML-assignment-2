{
 "cells": [
  {
   "metadata": {
    "id": "fbc121e30a2defb3",
    "outputId": "60947ea4-f7da-4bdc-9c72-eb6e862a2d01",
    "colab": {
     "base_uri": "https://localhost:8080/"
    }
   },
   "cell_type": "code",
   "source": [
    "import kagglehub\n",
    "\n",
    "# Download latest version\n",
    "path = kagglehub.dataset_download(\"uom190346a/sleep-health-and-lifestyle-dataset\")\n",
    "\n",
    "print(\"Path to dataset files:\", path)\n",
    "\n",
    "#https://www.kaggle.com/code/jillanisofttech/sleep-health-and-lifestyle-predication-with-94-ac\n",
    "#eksempel av noen sin løsning på dette datasetet"
   ],
   "id": "fbc121e30a2defb3",
   "outputs": [],
   "execution_count": null
  },
  {
   "metadata": {
    "id": "f3ff66d7cc76cdee"
   },
   "cell_type": "code",
   "source": [
    "import pandas as pd"
   ],
   "id": "f3ff66d7cc76cdee",
   "outputs": [],
   "execution_count": null
  },
  {
   "metadata": {
    "id": "9bda9e4df152218a"
   },
   "cell_type": "code",
   "source": [
    "data = pd.read_csv(path+\"/Sleep_health_and_lifestyle_dataset.csv\")"
   ],
   "id": "9bda9e4df152218a",
   "outputs": [],
   "execution_count": null
  },
  {
   "metadata": {},
   "cell_type": "code",
   "source": [
    "headAmount = 5 # for å skrive ut alle data punkt i csv file skriv data.size() istedenfor eit tall\n",
    "data.head(headAmount)"
   ],
   "id": "fc2e2c9d1d5bf4f2",
   "outputs": [],
   "execution_count": null
  },
  {
   "metadata": {},
   "cell_type": "code",
   "source": [
    "print(data['Sleep Disorder'].unique())\n",
    "print(data['Occupation'].unique())\n",
    "print(data['BMI Category'].unique())"
   ],
   "id": "4b85de81e454e45a",
   "outputs": [],
   "execution_count": null
  },
  {
   "metadata": {},
   "cell_type": "code",
   "source": "data['Blood Pressure'].unique()",
   "id": "38e3a60ac98bc860",
   "outputs": [],
   "execution_count": null
  },
  {
   "metadata": {},
   "cell_type": "code",
   "source": [
    "# Vi deler opp blodtrykk siden det er to verdiar i ein kolonne\n",
    "data_16_pro_xl = (pd.concat([data, data['Blood Pressure'].str.split('/', expand=True)], axis=1).\n",
    "                  drop('Blood Pressure', axis=1))"
   ],
   "id": "3436596e6714baf3",
   "outputs": [],
   "execution_count": null
  },
  {
   "metadata": {},
   "cell_type": "code",
   "source": "#data_16_pro_xl",
   "id": "5c3cb922eb449e5e",
   "outputs": [],
   "execution_count": null
  },
  {
   "metadata": {},
   "cell_type": "code",
   "source": "data_16_pro_xl = data_16_pro_xl.rename(columns={0: 'Systolic Blood Pressure', 1: 'Diastolic Blood Pressure'})",
   "id": "1c40cf38b7e9be71",
   "outputs": [],
   "execution_count": null
  },
  {
   "metadata": {},
   "cell_type": "code",
   "source": "#data_16_pro_xl",
   "id": "17107da0bcb03701",
   "outputs": [],
   "execution_count": null
  },
  {
   "metadata": {},
   "cell_type": "code",
   "source": [
    "data_16_pro_xl['Systolic Blood Pressure'] = data_16_pro_xl['Systolic Blood Pressure'].astype(float)\n",
    "data_16_pro_xl['Diastolic Blood Pressure'] = data_16_pro_xl['Diastolic Blood Pressure'].astype(float)\n",
    "data_16_pro_xl.info()"
   ],
   "id": "eb20999e51aeeb0d",
   "outputs": [],
   "execution_count": null
  },
  {
   "metadata": {},
   "cell_type": "code",
   "source": [
    "from sklearn.preprocessing import LabelEncoder\n",
    "import json\n",
    "from pathlib import Path\n",
    "\n",
    "# Fit encoders on full data so all categories are captured\n",
    "categoricals = [\"Gender\", \"Occupation\", \"BMI Category\"]\n",
    "enc_map = {}\n",
    "for col in categoricals:\n",
    "    le = LabelEncoder()\n",
    "    data_16_pro_xl[col] = le.fit_transform(data_16_pro_xl[col])\n",
    "    enc_map[col] = {str(cls): int(code) for cls, code in zip(le.classes_, le.transform(le.classes_))}\n",
    "\n",
    "# Target label order for decoding predictions later\n",
    "le_y = LabelEncoder()\n",
    "data_16_pro_xl['Sleep Disorder'] = le_y.fit_transform(data_16_pro_xl['Sleep Disorder'])\n",
    "target_classes = [str(c) for c in le_y.classes_]\n",
    "\n",
    "Path(\"encoders.json\").write_text(json.dumps(enc_map, indent=2))\n",
    "Path(\"target_classes.json\").write_text(json.dumps(target_classes, indent=2))\n"
   ],
   "id": "50b906138707e2bb",
   "outputs": [],
   "execution_count": null
  },
  {
   "metadata": {},
   "cell_type": "code",
   "source": [
    "X = data_16_pro_xl.drop(['Sleep Disorder','Person ID'], axis=1)\n",
    "y = data_16_pro_xl['Sleep Disorder']"
   ],
   "id": "e05f53940d9367c1",
   "outputs": [],
   "execution_count": null
  },
  {
   "metadata": {},
   "cell_type": "code",
   "source": [
    "import joblib\n",
    "from sklearn.metrics import accuracy_score\n",
    "from sklearn.ensemble import GradientBoostingClassifier\n",
    "from sklearn.model_selection import train_test_split\n",
    "\n",
    "X_train, X_test, y_train, y_test = train_test_split(X, y, test_size=0.2, random_state=2)\n",
    "\n",
    "model = GradientBoostingClassifier(n_estimators=100, learning_rate=0.1, max_depth=3, random_state=42)\n",
    "model.fit(X_train, y_train)\n",
    "\n",
    "y_pred = model.predict(X_test)\n",
    "print(f\"Model Accuracy: {accuracy_score(y_test, y_pred)}\")\n",
    "\n",
    "joblib.dump(model, 'sleep_disorder_model.pkl')"
   ],
   "id": "b33b466867c8af99",
   "outputs": [],
   "execution_count": null
  }
 ],
 "metadata": {
  "kernelspec": {
   "display_name": "Python 3",
   "language": "python",
   "name": "python3"
  },
  "language_info": {
   "codemirror_mode": {
    "name": "ipython",
    "version": 2
   },
   "file_extension": ".py",
   "mimetype": "text/x-python",
   "name": "python",
   "nbconvert_exporter": "python",
   "pygments_lexer": "ipython2",
   "version": "2.7.6"
  },
  "colab": {
   "provenance": []
  }
 },
 "nbformat": 4,
 "nbformat_minor": 5
}
